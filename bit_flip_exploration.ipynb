{
 "cells": [
  {
   "cell_type": "code",
   "execution_count": null,
   "id": "25dbb3ca-f585-4aec-8b52-2fdf04590c18",
   "metadata": {},
   "outputs": [],
   "source": [
    "import sus\n",
    "from sus.protocol_designer import *"
   ]
  },
  {
   "cell_type": "code",
   "execution_count": null,
   "id": "5320dfe7-76c2-42ff-80db-153f1e460870",
   "metadata": {},
   "outputs": [],
   "source": [
    "from simtools.infoenginessims.api import *\n",
    "from simtools.infoenginessims.analysis import running_quantities as rq\n",
    "from simtools.infoenginessims.simprocedures import basic_simprocedures as sp\n",
    "from simtools.infoenginessims.simprocedures import running_measurements as rp\n",
    "from simtools.infoenginessims.simprocedures import trajectory_measurements as tp"
   ]
  },
  {
   "cell_type": "code",
   "execution_count": null,
   "id": "8819ad50-e662-4e2a-a173-628f26408a4e",
   "metadata": {},
   "outputs": [],
   "source": [
    "import SimRunner as sr\n",
    "bfr = sr.BitFlipRunner()"
   ]
  },
  {
   "cell_type": "code",
   "execution_count": null,
   "id": "fecce810",
   "metadata": {},
   "outputs": [],
   "source": [
    "bfr.potential.domain"
   ]
  },
  {
   "cell_type": "code",
   "execution_count": null,
   "id": "031e26db-3ba4-486a-8a06-f7dc4abd2e77",
   "metadata": {},
   "outputs": [],
   "source": [
    "plt.rcParams[\"animation.html\"] = \"jshtml\"\n",
    "from IPython.display import HTML\n",
    "import matplotlib.animation as animation\n",
    "%matplotlib inline"
   ]
  },
  {
   "cell_type": "code",
   "execution_count": null,
   "id": "1e78ae45-8076-4cad-89be-7b5890d8f788",
   "metadata": {},
   "outputs": [],
   "source": [
    "#tr.potential = fep.pwl_double_pot\n",
    "#setattr(tr,'has_velocity',True)\n"
   ]
  },
  {
   "cell_type": "code",
   "execution_count": null,
   "id": "8f74047d-40a4-4d40-b090-eebf56f1b373",
   "metadata": {},
   "outputs": [],
   "source": [
    "bfr.has_velocity"
   ]
  },
  {
   "cell_type": "code",
   "execution_count": null,
   "id": "f93e23a4-3986-4252-bb12-499880c7bacc",
   "metadata": {},
   "outputs": [],
   "source": [
    "p_vals={}\n",
    "p_vals['lambda']=.04\n",
    "p_vals['N'] = 5_000\n",
    "p_vals['dt'] = 1/5_000\n",
    "p_vals['k'] = 4\n",
    "p_vals['tau'] = np.pi/2\n",
    "p_vals['depth'] = 8\n",
    "p_vals['location'] = 2\n",
    "\n",
    "bfr.change_params(p_vals)\n",
    "#bfr.potential.domain = [[-3],[3]]\n",
    "bfr.initialize_sim()"
   ]
  },
  {
   "cell_type": "code",
   "execution_count": null,
   "id": "d990baf7-36b0-4701-90d0-53ed0e8fb7f6",
   "metadata": {},
   "outputs": [],
   "source": [
    "\n",
    "dom = [[-2*bfr.params['location']],[2*bfr.params['location']]]\n",
    "fig, ax = plt.subplots(1, sharex=True, sharey=True, figsize=(14,5))\n",
    "bfr.eq_system.show_potential(0, manual_domain=dom, ax=ax)\n",
    "bfr.system.show_potential(bfr.protocol.t_f/2, manual_domain=dom, ax=ax)\n",
    "ax.set_ylim(-bfr.params['depth']-1,10)\n",
    "ax.set_xlim(dom[0][0], dom[1][0])\n",
    "\n",
    "ax.axhline(0, linestyle='dashed')\n",
    "ax.axhline(-bfr.params['depth'], linestyle='dashed')\n"
   ]
  },
  {
   "cell_type": "code",
   "execution_count": null,
   "id": "5861267d-1563-4841-be4d-2faf87f3027d",
   "metadata": {},
   "outputs": [],
   "source": [
    "eq_mid = bfr.system.eq_state(bfr.params['N'],t=bfr.protocol.t_f/2, beta=bfr.params['beta'])\n"
   ]
  },
  {
   "cell_type": "code",
   "execution_count": null,
   "id": "0460d271-2b3e-42d7-8769-048b3a12eb8c",
   "metadata": {},
   "outputs": [],
   "source": [
    "from scipy.stats import moment\n",
    "for state in [ bfr.init_state[...,0], eq_mid[...,0]]:\n",
    "    print(len(state), [moment(state, i+1) for i in range(4)])\n"
   ]
  },
  {
   "cell_type": "code",
   "execution_count": null,
   "id": "bca83ffb-8e70-460c-a13b-42dc3d269068",
   "metadata": {},
   "outputs": [],
   "source": [
    "plt.hist(bfr.init_state[...,0], bins=100, alpha=.7);\n",
    "plt.hist(eq_mid[...,0], bins=100, alpha=.7);\n",
    "print(sum(eq_mid>0)/bfr.params['N'])\n"
   ]
  },
  {
   "cell_type": "code",
   "execution_count": null,
   "id": "f24f83fb-3d1a-4d63-adda-7255eb945dbb",
   "metadata": {},
   "outputs": [],
   "source": [
    "#tr.save_procs = [sr.SaveParams(), sr.SaveSimLight()]"
   ]
  },
  {
   "cell_type": "code",
   "execution_count": null,
   "id": "6c4e51d2-3a4b-4687-9759-ff8d225beb3f",
   "metadata": {},
   "outputs": [],
   "source": [
    "%%time\n",
    "bfr.sim.output = bfr.sim.run(verbose=True)\n",
    "bfr.analyze_output()"
   ]
  },
  {
   "cell_type": "code",
   "execution_count": null,
   "id": "d7d5f85a-360e-4f66-b1dc-0b4baff96f9f",
   "metadata": {},
   "outputs": [],
   "source": []
  },
  {
   "cell_type": "code",
   "execution_count": null,
   "id": "9c9740c1-b7fe-460b-b991-20321b45ff3e",
   "metadata": {},
   "outputs": [],
   "source": [
    "all_state = bfr.sim.output.all_state['states']\n",
    "final_state = bfr.sim.output.final_state\n",
    "t= np.linspace(0, bfr.params['dt']*bfr.sim.nsteps, 1+bfr.sim.nsteps)\n",
    "j_trajectories = bfr.sim.output.jump_trajectories\n",
    "init_state = bfr.sim.initial_state\n",
    "final_W = bfr.sim.output.final_W\n",
    "all_W = bfr.sim.output.all_W\n"
   ]
  },
  {
   "cell_type": "code",
   "execution_count": null,
   "id": "c954996c-9d52-4880-b0f0-19d9544d553a",
   "metadata": {},
   "outputs": [],
   "source": [
    "t_dict =  {k:v for k,v in zip(['all_W','final_W', 'all_S'],[all_W, final_W, all_state])}\n",
    "exec(f\"out{int(8)}=t_dict\")\n"
   ]
  },
  {
   "cell_type": "code",
   "execution_count": null,
   "id": "230ab650",
   "metadata": {},
   "outputs": [],
   "source": [
    "outs=[out0, out1, out2, out3, out4, out5, out6, out7, out8]"
   ]
  },
  {
   "cell_type": "code",
   "execution_count": null,
   "id": "3ca12ed8-9a53-4aa0-afd6-5b5a3c8db469",
   "metadata": {},
   "outputs": [],
   "source": [
    "fig, ax = plt.subplots()\n",
    "for out in outs:\n",
    "    fw = out['final_W']\n",
    "    ax.hist(fw, bins=100, alpha=.5);\n",
    "    print(fw.mean())\n",
    "    ax.set_yscale('log')\n",
    "    #ax.set_xlim(-5,5)\n",
    "    \n"
   ]
  },
  {
   "cell_type": "code",
   "execution_count": null,
   "id": "33af662b-2db1-496c-b050-48a57a00813f",
   "metadata": {},
   "outputs": [],
   "source": [
    "all_W.keys()"
   ]
  },
  {
   "cell_type": "code",
   "execution_count": null,
   "id": "afc71f8b-86dd-4a5d-a74a-1274a5dff4f1",
   "metadata": {},
   "outputs": [],
   "source": [
    "fig, ax = plt.subplots(1,2, figsize=(20,10))\n",
    "for item in outs:\n",
    "    ax[0].plot(np.sum(item['all_S'][...,0]<0, axis=0)/len(item['all_S'][...,0]))\n",
    "    #ax[0].plot(np.sum(item['all_S'][...,0]>0, axis=0)/len(item['all_S'][...,0]))\n",
    "    ax[1].plot(item['all_W']['values'])\n",
    "    \n",
    "ax[0].legend([f'{i+1}' for i in range(len(outs))])\n",
    "    "
   ]
  },
  {
   "cell_type": "code",
   "execution_count": null,
   "id": "2d8c1019-ed11-4e72-ac94-92e6749bddd7",
   "metadata": {},
   "outputs": [],
   "source": [
    "j_trajectories.keys()"
   ]
  },
  {
   "cell_type": "code",
   "execution_count": null,
   "id": "669b3f58-3962-4be8-a2a5-068a42bc8989",
   "metadata": {},
   "outputs": [],
   "source": [
    "z_jump = j_trajectories['0']\n",
    "o_jump = j_trajectories['1'] \n",
    "ztrans = (z_jump>0)[:200]\n",
    "otrans = (o_jump>0)[:200]"
   ]
  },
  {
   "cell_type": "code",
   "execution_count": null,
   "id": "d636eae2-3367-4747-9e12-9caa3458b397",
   "metadata": {},
   "outputs": [],
   "source": [
    "as_step = bfr.sim.output.all_state['step_indices']"
   ]
  },
  {
   "cell_type": "code",
   "execution_count": null,
   "id": "4db14913-e0fb-47e9-9a20-e01b75bfd143",
   "metadata": {},
   "outputs": [],
   "source": [
    "fig, ax = plt.subplots(2)\n",
    "ax[0].plot(t[as_step], all_state[ztrans,:,0,0].transpose(), alpha=.4);\n",
    "ax[1].plot(t[as_step], all_state[otrans,:,0,0].transpose(), alpha=.4);\n"
   ]
  },
  {
   "cell_type": "code",
   "execution_count": null,
   "id": "75a7e197-063d-438f-9a8b-5d861701828f",
   "metadata": {},
   "outputs": [],
   "source": [
    "lst = [out['final_W'] for out in outs]\n",
    "fig, ax = plt.subplots(max(2, len(lst)), sharex=True, sharey=True, figsize=(5,10))\n",
    "for i,item in enumerate(lst):\n",
    "\n",
    "    ax[i].hist(item, bins=50, alpha=.6, density=True);\n",
    "    print(np.mean(item), np.std(item))\n",
    "\n",
    "ax[0].set_yscale('log')"
   ]
  },
  {
   "cell_type": "code",
   "execution_count": null,
   "id": "393b708b-418a-4c65-9134-b98caadb7217",
   "metadata": {},
   "outputs": [],
   "source": [
    "from scipy.stats import sem, skew, kurtosis\n",
    "def get_avg_stats(work, condition=None):\n",
    "    N = len(work)\n",
    "    ft = np.exp(-work)\n",
    "    tanh = np.tanh(work/2) \n",
    "    if condition is not None:\n",
    "        cond_w = work[condition]\n",
    "        Nc = len(cond_w)\n",
    "        work = (Nc/N)*cond_w*(1-np.exp(-cond_w))\n",
    "        ft = (Nc/N)*(1+np.exp(-cond_w))\n",
    "        tanh = (Nc/N)*np.tanh(cond_w/2)*(1-np.exp(-cond_w))\n",
    "        \n",
    "    avg = [np.mean(work), sem(work), skew(work), kurtosis(work)]\n",
    "    ft = [np.mean(ft), sem(ft)]\n",
    "    avg_tanh, sem_tanh = np.mean(tanh), sem(tanh)\n",
    "    emin = [ 1/avg_tanh-1, (sem_tanh/avg_tanh**2)]\n",
    "    return [avg, ft, emin]"
   ]
  },
  {
   "cell_type": "code",
   "execution_count": null,
   "id": "cac9894c-dc5c-4755-9c8b-e3a544cb2377",
   "metadata": {},
   "outputs": [],
   "source": [
    "from scipy.stats import sem\n",
    "stats=[]\n",
    "for item in [outs]:\n",
    "    stats.append(get_avg_stats(item['final_W'], condition=None))"
   ]
  },
  {
   "cell_type": "code",
   "execution_count": null,
   "id": "54a77915-eff4-4559-8f9d-db9e00eaa154",
   "metadata": {},
   "outputs": [],
   "source": [
    "zo = kt.separate_by_state(all_state[:,0,0,0])\n",
    "axes = [np.s_[zo['0'], :],np.s_[zo['1'], :]]\n"
   ]
  },
  {
   "cell_type": "code",
   "execution_count": null,
   "id": "e7520ae8",
   "metadata": {},
   "outputs": [],
   "source": [
    "len(all_state[np.s_[zo['0'], :, 0, 0]])"
   ]
  },
  {
   "cell_type": "code",
   "execution_count": null,
   "id": "aa53b331",
   "metadata": {},
   "outputs": [],
   "source": [
    "%%capture\n",
    "ani,_,_ = kt.animate_hist_1D(all_state[...,:,0], bfr.system.protocol.t_f, which_axes=axes, frame_skip=20, lims=[-1,1])\n",
    "HTML(ani.to_jshtml(fps=30))"
   ]
  },
  {
   "cell_type": "code",
   "execution_count": null,
   "id": "c1b99d82-4dfa-472d-bf98-cd2a913c6b66",
   "metadata": {},
   "outputs": [],
   "source": [
    "from scipy.interpolate import interp1d\n",
    "\n",
    "kernel_w = .01\n",
    "interp_points = 1000\n",
    "\n",
    "init_dist = kt.kde(init_state, bandwidth=kernel_w)\n",
    "x = np.linspace(np.min(init_state)-.2, np.max(init_state)+.2, interp_points)\n",
    "y = init_dist.score_samples(x.reshape(-1,1))\n",
    "log_pi = interp1d(x, y, kind='linear')\n",
    "\n",
    "\n",
    "final_dist = kt.kde(final_state, bandwidth=kernel_w)\n",
    "x = np.linspace(np.min(final_state)-.2, np.max(final_state)+.2, interp_points)\n",
    "y = final_dist.score_samples(x.reshape(-1,1))\n",
    "log_pf = interp1d(x, y, kind='linear')"
   ]
  },
  {
   "cell_type": "code",
   "execution_count": null,
   "id": "d504b8b8-3773-45ad-a45e-09754ac09bb0",
   "metadata": {},
   "outputs": [],
   "source": [
    "(np.exp(log_pf(x))).shape"
   ]
  },
  {
   "cell_type": "code",
   "execution_count": null,
   "id": "fae3dd48-dadf-41bf-87ac-faae30957448",
   "metadata": {},
   "outputs": [],
   "source": [
    "x=np.linspace(np.min(init_state),np.max(final_state),100).reshape(-1,1)\n",
    "idist = np.exp(init_dist.score_samples(x))\n",
    "fdist = np.exp(final_dist.score_samples(x))\n",
    "\n",
    "fig, ax = plt.subplots(3, figsize=(10,5))\n",
    "ax[0].plot(x,idist)\n",
    "ax[0].hist(init_state, bins=200, density=True, alpha=.5);\n",
    "ax[0].plot(x, np.exp(log_pi(x)))\n",
    "ax[1].plot(x,fdist)\n",
    "ax[1].hist(final_state, bins=200, density=True, alpha=.5);\n",
    "ax[1].plot(x, np.exp(log_pf(x)));\n",
    "ax[2].semilogy(x,np.exp(log_pi(x))[:,0]-idist);\n",
    "ax[2].semilogy(x,np.exp(log_pf(x))[:,0]-fdist);\n"
   ]
  },
  {
   "cell_type": "code",
   "execution_count": null,
   "id": "16438c06-fa18-4830-9925-a793d5293837",
   "metadata": {},
   "outputs": [],
   "source": [
    "log_p_i = np.array([log_pi(item) for item in init_state])[:,0]\n",
    "log_p_f = np.array([log_pf(item) for item in final_state])[:,0]"
   ]
  },
  {
   "cell_type": "code",
   "execution_count": null,
   "id": "706661f2-224f-46e4-b62a-fa62af017b8b",
   "metadata": {},
   "outputs": [],
   "source": [
    "wm = final_W[final_W<0]\n",
    "wp = final_W[final_W>0]\n",
    "\n",
    "print((np.exp(-wm)).mean(), (len(wp)/len(wm)))\n",
    "print((np.exp(-wp)).mean(),(len(wm)/(len(wp))))\n",
    "print((len(wp)/len(final_W))*(np.exp(-wp)+1).mean(),(len(wm)/len(final_W))*(np.exp(-wm)+1).mean())"
   ]
  },
  {
   "cell_type": "code",
   "execution_count": null,
   "id": "68dbbe1c",
   "metadata": {},
   "outputs": [],
   "source": [
    "print((np.exp(-wm)).mean(), (len(wp)/len(wm)))"
   ]
  },
  {
   "cell_type": "code",
   "execution_count": null,
   "id": "41f4caf5",
   "metadata": {},
   "outputs": [],
   "source": [
    "final_W.std()/np.sqrt(len(final_W))"
   ]
  },
  {
   "cell_type": "code",
   "execution_count": null,
   "id": "bbebd73d",
   "metadata": {},
   "outputs": [],
   "source": [
    "wp.std()/np.sqrt(len(wp))"
   ]
  },
  {
   "cell_type": "code",
   "execution_count": null,
   "id": "ef48280c-295c-41ba-a584-e082c89cb6cb",
   "metadata": {},
   "outputs": [],
   "source": [
    "print(final_W.mean(), (len(wp)/len(final_W))*np.mean(wp*(1-np.exp(-wp))))\n",
    "print(final_W.std())"
   ]
  },
  {
   "cell_type": "code",
   "execution_count": null,
   "id": "46974fb4",
   "metadata": {},
   "outputs": [],
   "source": [
    "len(wm)"
   ]
  },
  {
   "cell_type": "code",
   "execution_count": null,
   "id": "9074db91-73bc-475c-aed5-828f24a9f648",
   "metadata": {},
   "outputs": [],
   "source": [
    "\n",
    "print(final_W.mean(), (len(wp)/len(final_W))*np.mean(wp*(1-np.exp(-wp))))\n",
    "print((len(wm)/len(final_W))*np.mean(wm*(1-np.exp(-wm))))"
   ]
  },
  {
   "cell_type": "code",
   "execution_count": null,
   "id": "c47d6043-9171-483d-82c5-14a9dfde1102",
   "metadata": {},
   "outputs": [],
   "source": [
    "np.exp(-final_W).mean()"
   ]
  },
  {
   "cell_type": "code",
   "execution_count": null,
   "id": "1ed46642-9a5a-4cf2-837b-51b994fe5dee",
   "metadata": {},
   "outputs": [],
   "source": [
    "np.log(2)"
   ]
  },
  {
   "cell_type": "code",
   "execution_count": null,
   "id": "7ba793df-a92e-48e8-94cd-e1ff2791c1ee",
   "metadata": {},
   "outputs": [],
   "source": [
    "-pf*np.log(pf)- (1-pf)*np.log(1-pf)"
   ]
  },
  {
   "cell_type": "code",
   "execution_count": null,
   "id": "1769ba15-619f-4783-ad4a-7b6a3ebe9e4b",
   "metadata": {},
   "outputs": [],
   "source": [
    "pf"
   ]
  },
  {
   "cell_type": "code",
   "execution_count": null,
   "id": "d47ca3c9-8f0d-45be-9603-1ff7761f75fd",
   "metadata": {},
   "outputs": [],
   "source": [
    "pf = np.sum(final_state>0)/len(final_state>0)\n",
    "\n",
    "deltaH = -pf*np.log(pf)- (1-pf)*np.log(1-pf) - np.log(2)\n",
    "print(deltaH)"
   ]
  },
  {
   "cell_type": "code",
   "execution_count": null,
   "id": "92eaa3ab-af32-429e-8124-fbf763538a6c",
   "metadata": {},
   "outputs": [],
   "source": []
  },
  {
   "cell_type": "code",
   "execution_count": null,
   "id": "72333bb1-8a84-4557-b592-09b083e2003e",
   "metadata": {},
   "outputs": [],
   "source": [
    "W_dist = kt.kde(final_W.reshape(-1,1), bandwidth=.05)\n",
    "fig,ax=plt.subplots()\n",
    "ax.hist(final_W, bins=50, alpha=.6, density=True);\n",
    "x = np.linspace(np.min(final_W), np.max(final_W), 200).reshape(-1,1)\n",
    "ax.plot(x,np.exp(W_dist.score_samples(x)))\n",
    "#ax.set_yscale('log')\n",
    "plt.hist(final_W, bins=100, alpha=.6, density=True);\n"
   ]
  },
  {
   "cell_type": "code",
   "execution_count": null,
   "id": "8c6e8c6f-a0f3-4546-8112-213c2c101259",
   "metadata": {},
   "outputs": [],
   "source": [
    "n=50\n",
    "x=np.linspace(-7,7,2*n)\n",
    "p = np.exp(W_dist.score_samples(x.reshape(-1,1)))\n",
    "\n",
    "p_neg, p_pos = p[:n][::-1], p[n:]\n",
    "plt.plot(x[n:], p_pos/(np.exp(x[n:])*p_neg))"
   ]
  },
  {
   "cell_type": "code",
   "execution_count": null,
   "id": "8ee32d91-9411-4868-9fa0-5fd55644684b",
   "metadata": {},
   "outputs": [],
   "source": [
    "final_state"
   ]
  },
  {
   "cell_type": "code",
   "execution_count": null,
   "id": "02e2310f-3f9f-44a7-85e9-07047d3d279c",
   "metadata": {},
   "outputs": [],
   "source": [
    "cp"
   ]
  },
  {
   "cell_type": "code",
   "execution_count": null,
   "id": "d1db41f6-513f-4859-a8f1-186e7bc7bd1c",
   "metadata": {},
   "outputs": [],
   "source": [
    "cn"
   ]
  },
  {
   "cell_type": "code",
   "execution_count": null,
   "id": "df2a1564-a9bc-427d-93d6-b577a3430900",
   "metadata": {},
   "outputs": [],
   "source": [
    "len(final_W)"
   ]
  },
  {
   "cell_type": "code",
   "execution_count": null,
   "id": "50e72d77-c046-4fb2-82bf-cc8c3181fcc0",
   "metadata": {},
   "outputs": [],
   "source": [
    "nbins = 30\n",
    "W_p = final_W[final_W>0]\n",
    "W_n = final_W[final_W<0]\n",
    "cp, bp = np.histogram(W_p, bins=np.linspace(0, max(W_p), nbins))\n",
    "cn, bn = np.histogram(-W_n, bins=bp)\n",
    "svals = bp[:-1]+ (bp[1]-bp[0])/2\n",
    "\n",
    "plt.scatter(svals, (cp/(cn*np.exp(svals))))"
   ]
  },
  {
   "cell_type": "code",
   "execution_count": null,
   "id": "c76a4121-b167-4319-836f-30ebca1ebf6d",
   "metadata": {},
   "outputs": [],
   "source": [
    "bn"
   ]
  },
  {
   "cell_type": "code",
   "execution_count": null,
   "id": "c94b240b-7b4b-456e-a931-cf162859e336",
   "metadata": {},
   "outputs": [],
   "source": [
    "fig, ax =plt.subplots()\n",
    "dx = bp[1]-bp[0]\n",
    "ax.bar(bp[:-1], cp, align='edge', width = dx,alpha=.7)\n",
    "ax.bar(-bn[:-1], cn*np.exp(svals),align='edge', width = dx, alpha=.7)\n",
    "ax.set_yscale('log')"
   ]
  },
  {
   "cell_type": "code",
   "execution_count": null,
   "id": "1db51607-8dc7-4aa4-b585-98b4fb415886",
   "metadata": {},
   "outputs": [],
   "source": []
  },
  {
   "cell_type": "code",
   "execution_count": null,
   "id": "bf31d4cd-b1cb-44b4-b527-452d83ed8d63",
   "metadata": {},
   "outputs": [],
   "source": [
    "sim.output"
   ]
  },
  {
   "cell_type": "code",
   "execution_count": null,
   "id": "8b68428f-8380-4b04-9b94-4e21efca069e",
   "metadata": {},
   "outputs": [],
   "source": [
    "sim.initia"
   ]
  },
  {
   "cell_type": "code",
   "execution_count": null,
   "id": "cd04447d-4cb8-4c3d-acf5-c74ac84a9d96",
   "metadata": {},
   "outputs": [],
   "source": [
    "s1 = bundle_sim(final_W, system, sim)\n",
    "kt.save_as_json(s1, name=f'lmda{int(lmda*10)}t{int(tf)}', dir='./t10/')"
   ]
  },
  {
   "cell_type": "code",
   "execution_count": null,
   "id": "02475244-fe71-4c18-bfed-28d40807008b",
   "metadata": {},
   "outputs": [],
   "source": []
  },
  {
   "cell_type": "code",
   "execution_count": null,
   "id": "2c4d642a-b377-4af5-bbdf-61618ff91430",
   "metadata": {},
   "outputs": [],
   "source": [
    "sigma_old"
   ]
  },
  {
   "cell_type": "code",
   "execution_count": null,
   "id": "8bd3ea54-9e3f-49ad-9d18-7ac254b09b50",
   "metadata": {},
   "outputs": [],
   "source": [
    "nbins = 25\n",
    "\n",
    "c, b = np.histogram(sigma_old, bins = np.linspace(-2,2,2*nbins+1))\n",
    "c_neg, c_pos = c[:nbins][::-1], c[nbins:]\n",
    "svals = b[:-1]+ (b[1]-b[0])/2\n",
    "svals_neg, svals_pos = svals[:nbins][::-1], svals[nbins:]\n",
    "plt.plot(svals_pos, c_pos/(c_neg*np.exp(svals_pos)))\n"
   ]
  },
  {
   "cell_type": "code",
   "execution_count": null,
   "id": "28e3e42e-1edf-4223-977e-e4987641de47",
   "metadata": {},
   "outputs": [],
   "source": [
    "plt.hist(sigma_old)"
   ]
  },
  {
   "cell_type": "code",
   "execution_count": null,
   "id": "4bf15c30-99dc-4b9f-aa4d-75257e369c1e",
   "metadata": {},
   "outputs": [],
   "source": [
    "sim.__dict__.keys()"
   ]
  },
  {
   "cell_type": "code",
   "execution_count": null,
   "id": "1d5c984c-3ae1-427e-a210-12abc59f4c48",
   "metadata": {},
   "outputs": [],
   "source": [
    "np.histogram(final_W)"
   ]
  },
  {
   "cell_type": "code",
   "execution_count": null,
   "id": "ca8734ab-6af7-4126-bc6c-51dd4c60cc4e",
   "metadata": {},
   "outputs": [],
   "source": [
    "W_pos = final_W[final_W>0]\n",
    "(np.tanh(W_pos/2)*(1-np.exp(-W_pos))).mean()"
   ]
  },
  {
   "cell_type": "code",
   "execution_count": null,
   "id": "39d84154-1f2d-42f3-b6f5-68d64eec7924",
   "metadata": {},
   "outputs": [],
   "source": [
    "np.tanh(final_W/2).mean()"
   ]
  },
  {
   "cell_type": "code",
   "execution_count": null,
   "id": "a3dd2e17-e3da-4d4a-b9a8-6fdcd6bc3c2b",
   "metadata": {},
   "outputs": [],
   "source": [
    "def bundle_sim(final_W, system, sim):\n",
    "    out={}\n",
    "    all_state=sim.output.all_state['states']\n",
    "    \n",
    "    W_pos = final_W[final_W > 0]\n",
    "    avgs = [np.mean(final_W), np.mean(W_pos* (1-np.exp(-W_pos)))]\n",
    "    std = np.std(final_W)\n",
    "    hist = np.histogram(final_W, bins=50)\n",
    "    hist = [item for item in hist]\n",
    "    \n",
    "    nbins = 25\n",
    "    W_p = final_W[final_W>0]\n",
    "    W_n = final_W[final_W<0]\n",
    "    cp, bp = np.histogram(W_p, bins=np.linspace(0, max(W_p), nbins))\n",
    "    cn, bn = np.histogram(-W_n, bins=bp)\n",
    "    \n",
    "    N=len(final_W)\n",
    "    exp_avg = np.mean(np.exp(-final_W)) \n",
    "    tanh_avgs = [np.tanh(final_W/2).mean(), (np.tanh(W_pos/2)*(1-np.exp(-W_pos))).mean()]\n",
    "    EMIN = [1/avg-1 for avg in tanh_avgs]\n",
    "    params = [prot.params.tolist() for prot in system.protocol.protocols]\n",
    "    sim_info = {'params':params, 'all_state':all_state, 'dur':system.protocol.t_f, 'scale':system.potential.scale }\n",
    "    ft_check = {'counts_p':, 'bins_p':bp, 'counts_n':cn, 'bins_n':bn}\n",
    "    keys = ['avg', 'std', 'N', 'hist', 'exp_avg', 'EMIN', 'sim', 'ft_check', 'final_state', 'init_state']\n",
    "    \n",
    "    init_state =  sim.initial_state\n",
    "    final_state = sim.output.final_state\n",
    "    \n",
    "    \n",
    "    values = [avgs, std, N, hist, exp_avg, EMIN, sim_info, ft_check, final_state, init_state]\n",
    "    for key,value in zip(keys,values):\n",
    "        print(type(value))\n",
    "        if type(value) == list:\n",
    "            print(type(value[0]))\n",
    "            if type(value[0]) == list:\n",
    "                print(type(value[0][0]))\n",
    "        if type(value) == dict:\n",
    "            for key, value in value.items():\n",
    "                print(type(value))\n",
    "        out[key] = value\n",
    "    return out "
   ]
  },
  {
   "cell_type": "code",
   "execution_count": null,
   "id": "507748cc-19d7-421f-b4bd-3dc62a1df3b3",
   "metadata": {},
   "outputs": [],
   "source": [
    "for k,v in d.items():\n",
    "    print(k,v)"
   ]
  },
  {
   "cell_type": "code",
   "execution_count": null,
   "id": "4d54bdde-0657-4bf3-b87c-313a56e65d32",
   "metadata": {},
   "outputs": [],
   "source": [
    "type(s1['hist'][0])"
   ]
  },
  {
   "cell_type": "code",
   "execution_count": null,
   "id": "1c56d30c-3b36-4c8a-bbd4-3f3c2ea5ec8b",
   "metadata": {},
   "outputs": [],
   "source": [
    "x=.2334\n",
    "f'x{int(x*1000)}'"
   ]
  },
  {
   "cell_type": "code",
   "execution_count": null,
   "id": "1ddded05-8501-4334-b097-4a7800526f38",
   "metadata": {},
   "outputs": [],
   "source": [
    "kt.separate_by_state(init_state)"
   ]
  },
  {
   "cell_type": "code",
   "execution_count": null,
   "id": "6aee6549-ee99-4b31-aa10-1bf86ffce163",
   "metadata": {},
   "outputs": [],
   "source": [
    "for tf in np.linspace(1,4,10):\n",
    "    system.protocol.normalize()\n",
    "    system.protocol.time_stretch(tf)\n",
    "    \n",
    "    N=500_000\n",
    "    init_state = system.eq_state(N,t=0)\n",
    "    \n",
    "    dt = 1/2000\n",
    "    tf = system.protocol.t_f\n",
    "    as_step = max(1, int((tf/dt)/500))\n",
    "    procs = [\n",
    "            sp.ReturnFinalState(),\n",
    "            sp.MeasureAllState(trial_request=np.s_[:500],step_request=np.s_[::as_step])]\n",
    "\n",
    "    sim = setup_sim(system, init_state, damping=1, temp=1, dt=dt, procedures=procs)\n",
    "    sim.output = sim.run(verbose=True)\n",
    "        \n",
    "    all_state = sim.output.all_state['states']\n",
    "    final_state = sim.output.final_state\n",
    "    \n",
    "    W0 = system.get_potential(init_state, .1) - system.get_potential(init_state, 0)\n",
    "    w1 = system.get_potential(final_state, system_protocol.t_f) - system.get_potential(final_state, system.protocol.t_f-.1)\n",
    "    final_W = W0 + W1\n",
    "\n",
    "        \n",
    "    s1 = bundle_sim(final_W, system, sim.output)\n",
    "    kt.save_as_json(s1, name=f't{int(100*tf)}', dir='./t11/')"
   ]
  },
  {
   "cell_type": "code",
   "execution_count": null,
   "id": "847a14be-5908-4f5d-90c0-f52ea26c2ffe",
   "metadata": {},
   "outputs": [],
   "source": [
    "ds = [kt.open_json(item) for item in kt.file_list('./t11/')]"
   ]
  },
  {
   "cell_type": "code",
   "execution_count": null,
   "id": "34f5c508-6ca8-4a58-a9c0-f72abb8de0d3",
   "metadata": {},
   "outputs": [],
   "source": [
    "bnds=[ item['bounds'] for item in ds]\n",
    "sgma = [item['avg'] for item in ds]\n",
    "scl = [item['sim']['dur'] for item in ds]\n",
    "var =  [item['std'] for item in ds]\n",
    "e_avg = [item['exp_avg'] for item in ds]"
   ]
  },
  {
   "cell_type": "code",
   "execution_count": null,
   "id": "0785167d-0140-4393-ac9e-a1153157cc68",
   "metadata": {},
   "outputs": [],
   "source": [
    "scl"
   ]
  },
  {
   "cell_type": "code",
   "execution_count": null,
   "id": "2c95c2dd-7663-4eab-ae80-1209ca6e34f7",
   "metadata": {},
   "outputs": [],
   "source": [
    "var"
   ]
  },
  {
   "cell_type": "code",
   "execution_count": null,
   "id": "fe94bbde-a59e-4867-9420-f83a9f164f64",
   "metadata": {},
   "outputs": [],
   "source": [
    "[bound['HG'] for bound in bnds]"
   ]
  },
  {
   "cell_type": "code",
   "execution_count": null,
   "id": "497ad644-9dcc-4771-ad63-ec8d6d577291",
   "metadata": {},
   "outputs": [],
   "source": [
    "fig, ax = plt.subplots()\n",
    "for item in ['HG', 'HVV', 'TGGL', 'EMIN']:\n",
    "    ax.scatter(var, [bound[item] for bound in bnds], label=item)\n",
    "ax.legend()"
   ]
  },
  {
   "cell_type": "code",
   "execution_count": null,
   "id": "59a7778b-f124-4fb4-932a-8d2d0246cb61",
   "metadata": {},
   "outputs": [],
   "source": [
    "plt.hist(ds[0]['hist']);"
   ]
  },
  {
   "cell_type": "code",
   "execution_count": null,
   "id": "5a572d31-274e-4f6e-91d7-576c8e9a22ef",
   "metadata": {},
   "outputs": [],
   "source": [
    "len(h[1])"
   ]
  },
  {
   "cell_type": "code",
   "execution_count": null,
   "id": "b30d908f-9a72-498d-b756-d6736550d56c",
   "metadata": {},
   "outputs": [],
   "source": [
    "fig, ax = plt.subplots()\n",
    "h = ds[-2]['hist']\n",
    "dx = h[1][1]-h[1][0]\n",
    "ax.bar(np.add(h[1][:-1],dx), h[0])\n",
    "ax.set_yscale('log')\n"
   ]
  },
  {
   "cell_type": "code",
   "execution_count": null,
   "id": "cdc55ed7-ec5d-40bd-8992-ee434a9e8840",
   "metadata": {},
   "outputs": [],
   "source": [
    "(item['sim']['scale'])"
   ]
  },
  {
   "cell_type": "code",
   "execution_count": null,
   "id": "01e62d17-30c2-4add-99b2-cd9f1af4d6bd",
   "metadata": {},
   "outputs": [],
   "source": [
    "sgma"
   ]
  },
  {
   "cell_type": "code",
   "execution_count": null,
   "id": "fd23bfbb-16c5-4b08-9992-27e24f71c58b",
   "metadata": {},
   "outputs": [],
   "source": [
    "plt.scatter(scl,sgma)"
   ]
  },
  {
   "cell_type": "code",
   "execution_count": null,
   "id": "f47cba1f-6b39-4e7a-ba20-a10ad4cbc8b4",
   "metadata": {},
   "outputs": [],
   "source": []
  }
 ],
 "metadata": {
  "interpreter": {
   "hash": "c48eea1d6fe0303de93a25029b75a26fa311fe2cfce1f013702fed1a8d75264d"
  },
  "kernelspec": {
   "display_name": "Python 3",
   "language": "python",
   "name": "python3"
  },
  "language_info": {
   "codemirror_mode": {
    "name": "ipython",
    "version": 3
   },
   "file_extension": ".py",
   "mimetype": "text/x-python",
   "name": "python",
   "nbconvert_exporter": "python",
   "pygments_lexer": "ipython3",
   "version": "3.7.15"
  }
 },
 "nbformat": 4,
 "nbformat_minor": 5
}
