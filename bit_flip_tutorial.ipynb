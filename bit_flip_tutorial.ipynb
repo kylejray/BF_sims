{
 "cells": [
  {
   "cell_type": "code",
   "execution_count": null,
   "id": "8819ad50-e662-4e2a-a173-628f26408a4e",
   "metadata": {},
   "outputs": [],
   "source": [
    "import SimRunner as sr\n",
    "#this class hides many details. to see everything that is happening you must study the SimRunner.py file as well as sus.#kyle_tools.multisim\n",
    "bfr = sr.BitFlipRunner()"
   ]
  },
  {
   "cell_type": "code",
   "execution_count": null,
   "id": "031e26db-3ba4-486a-8a06-f7dc4abd2e77",
   "metadata": {},
   "outputs": [],
   "source": [
    "plt.rcParams[\"animation.html\"] = \"jshtml\"\n",
    "from IPython.display import HTML\n",
    "import matplotlib.animation as animation\n",
    "%matplotlib inline"
   ]
  },
  {
   "cell_type": "code",
   "execution_count": null,
   "id": "f93e23a4-3986-4252-bb12-499880c7bacc",
   "metadata": {},
   "outputs": [],
   "source": [
    "#setting up parameters\n",
    "\n",
    "p_vals={}\n",
    "p_vals['lambda']=.5\n",
    "p_vals['N'] = 5_000\n",
    "p_vals['dt'] = 1/200\n",
    "p_vals['k'] = np.pi**2\n",
    "p_vals['tau'] = 1\n",
    "p_vals['depth'] = 3\n",
    "p_vals['location'] = 1\n",
    "\n",
    "bfr.change_params(p_vals)\n"
   ]
  },
  {
   "cell_type": "code",
   "execution_count": null,
   "id": "a20c7b06",
   "metadata": {},
   "outputs": [],
   "source": [
    "%%time\n",
    "bfr.run_sim(verbose=True)"
   ]
  },
  {
   "cell_type": "code",
   "execution_count": null,
   "id": "6eafee89",
   "metadata": {},
   "outputs": [],
   "source": [
    "# if you arent sure what attribites the sim output has, this is a useful trick:\n",
    "bfr.sim.output.__dict__.keys()"
   ]
  },
  {
   "cell_type": "code",
   "execution_count": null,
   "id": "fc50b7f5",
   "metadata": {},
   "outputs": [],
   "source": [
    "#here is a quick trajectory trace\n",
    "allstate = bfr.sim.output.all_state['states']\n",
    "plt.plot(allstate[:,:,0,0].transpose());"
   ]
  },
  {
   "cell_type": "code",
   "execution_count": null,
   "id": "72a4f869",
   "metadata": {},
   "outputs": [],
   "source": [
    "# try to create a ParamGuider class from source.kyle_tools.multisim OR make your own similar class in order to 'optimize' this bit flip. By optimize, I mean to find a protocol that has low work but also high fidelity.  Keep lambda at .5 but feel free ro change the other parameters.\n",
    "\n",
    "# It is important also to make sure that we have the right dt, so fist come up with with a method to determine how # small of a dt is necesarry to get good convergence and how many N we need to have good statistics."
   ]
  }
 ],
 "metadata": {
  "interpreter": {
   "hash": "c48eea1d6fe0303de93a25029b75a26fa311fe2cfce1f013702fed1a8d75264d"
  },
  "kernelspec": {
   "display_name": "Python 3",
   "language": "python",
   "name": "python3"
  },
  "language_info": {
   "codemirror_mode": {
    "name": "ipython",
    "version": 3
   },
   "file_extension": ".py",
   "mimetype": "text/x-python",
   "name": "python",
   "nbconvert_exporter": "python",
   "pygments_lexer": "ipython3",
   "version": "3.7.15"
  }
 },
 "nbformat": 4,
 "nbformat_minor": 5
}
