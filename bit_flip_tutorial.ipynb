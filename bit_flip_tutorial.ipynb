{
 "cells": [
  {
   "cell_type": "code",
   "execution_count": null,
   "id": "8819ad50-e662-4e2a-a173-628f26408a4e",
   "metadata": {},
   "outputs": [],
   "source": [
    "import SimRunner as sr\n",
    "#this class hides many details. to see everything that is happening you must study the SimRunner.py file as well as sus.#kyle_tools.multisim\n",
    "bfr = sr.BitFlipRunner()"
   ]
  },
  {
   "cell_type": "code",
   "execution_count": null,
   "id": "031e26db-3ba4-486a-8a06-f7dc4abd2e77",
   "metadata": {},
   "outputs": [],
   "source": [
    "plt.rcParams[\"animation.html\"] = \"jshtml\"\n",
    "from IPython.display import HTML\n",
    "import matplotlib.animation as animation\n",
    "%matplotlib inline"
   ]
  },
  {
   "cell_type": "code",
   "execution_count": null,
   "id": "f93e23a4-3986-4252-bb12-499880c7bacc",
   "metadata": {},
   "outputs": [],
   "source": [
    "#setting up parameters\n",
    "\n",
    "p_vals={}\n",
    "p_vals['lambda']=1\n",
    "p_vals['N'] = 50_000\n",
    "p_vals['dt'] = 1/50_000\n",
    "\n",
    "p_vals['k'] = 64\n",
    "#p_vals['tau'] = np.pi/np.sqrt(p_vals['k'])\n",
    "\n",
    "p_vals['depth'] = 30\n",
    "p_vals['location'] = 1\n",
    "p_vals['verbose'] = False\n",
    "\n",
    "bfr.change_params(p_vals)\n"
   ]
  },
  {
   "cell_type": "code",
   "execution_count": null,
   "id": "c23263d2-b773-48d4-81c1-262e27d10514",
   "metadata": {},
   "outputs": [],
   "source": [
    "bfr.eq_system.potential.offset\n",
    "#bfr.sim.system.potential.offset"
   ]
  },
  {
   "cell_type": "code",
   "execution_count": null,
   "id": "16bdd625-e066-40e4-8bc0-88b1b15e4e36",
   "metadata": {},
   "outputs": [],
   "source": [
    "bfr.initialize_sim()\n",
    "fig, ax = plt.subplots()\n",
    "bfr.eq_system.show_potential(1, ax=ax)\n",
    "bfr.sim.system.show_potential(1, ax=ax)\n",
    "ax.set_xlim(-1.5,1.5)\n",
    "ax.set_ylim(-50,50)\n",
    "ax.axhline(0)"
   ]
  },
  {
   "cell_type": "code",
   "execution_count": null,
   "id": "a20c7b06",
   "metadata": {},
   "outputs": [],
   "source": [
    "%%time\n",
    "bfr.run_sim(verbose=True)"
   ]
  },
  {
   "cell_type": "code",
   "execution_count": null,
   "id": "e412b0a8-cc6e-44be-aae4-5fde53062b8c",
   "metadata": {},
   "outputs": [],
   "source": [
    "sum((bfr.eq_system.get_energy(bfr.sim.output.final_state,0))>0)"
   ]
  },
  {
   "cell_type": "code",
   "execution_count": null,
   "id": "37bd210d-2f8f-4156-b820-c41f9e4d2622",
   "metadata": {},
   "outputs": [],
   "source": [
    "works = []\n",
    "final_e = []\n",
    "ks = [9, 16, 25, 36, 49, 64, 81]\n",
    "for item in ks:\n",
    "    p_vals['k'] = item\n",
    "    p_vals['tau'] = np.pi/np.sqrt(p_vals['k'])\n",
    "    bfr.change_params(p_vals)\n",
    "    bfr.run_sim(verbose=True)\n",
    "    print(f'{item}')\n",
    "    works.append(bfr.sim.output.final_W)\n",
    "    final_e.append(bfr.eq_system.get_energy(bfr.sim.output.final_state,0))    "
   ]
  },
  {
   "cell_type": "code",
   "execution_count": null,
   "id": "208d11ff-df38-4b5c-8824-c15b293f44c3",
   "metadata": {},
   "outputs": [],
   "source": [
    "w_avg = np.array([np.mean(item) for item in works])\n",
    "w_std = np.array([np.std(item)/np.sqrt(p_vals['N']) for item in works])\n",
    "j_avg = np.array([np.mean(np.exp(-item)) for item in works])\n",
    "j_std = np.array([np.std(np.exp(-item))/np.sqrt(p_vals['N']) for item in works])\n",
    "fid = [ sum( item>=0 )/len(item) for item in final_e]"
   ]
  },
  {
   "cell_type": "code",
   "execution_count": null,
   "id": "5bd2aa13-12a8-4a19-878b-384f7d267823",
   "metadata": {},
   "outputs": [],
   "source": [
    "fig, ax = plt.subplots(figsize=(15,7))\n",
    "ax.errorbar([np.pi/np.sqrt(k) for k in ks] , w_avg, yerr=3*w_std, marker='o', linestyle='--')\n",
    "ax.set_xlabel('$\\\\tau$');\n",
    "ax.set_ylabel('$\\\\langle W \\\\rangle (k_BT)$');\n",
    "ax.set_title(f'damping fixed at {p_vals[\"lambda\"]}, initial depth {p_vals[\"depth\"]} kT')\n"
   ]
  },
  {
   "cell_type": "code",
   "execution_count": null,
   "id": "57e8ad5e-ed4d-4133-9fd1-2ebce073c83d",
   "metadata": {},
   "outputs": [],
   "source": [
    "fig.savefig('l1p0.pdf')"
   ]
  },
  {
   "cell_type": "code",
   "execution_count": null,
   "id": "d50ca5ec-9f95-489d-9d57-168022a261bb",
   "metadata": {},
   "outputs": [],
   "source": [
    "works = []\n",
    "for i in range(100):\n",
    "    bfr.run_sim(verbose=False);\n",
    "\n",
    "    works.append(bfr.sim.output.final_W)\n",
    "        "
   ]
  },
  {
   "cell_type": "code",
   "execution_count": null,
   "id": "6cf5f619-7bc0-4dbe-8aa1-dad254e09224",
   "metadata": {},
   "outputs": [],
   "source": []
  },
  {
   "cell_type": "code",
   "execution_count": null,
   "id": "62631c19-95ed-44a0-9598-26e2ceb80dfe",
   "metadata": {},
   "outputs": [],
   "source": [
    "w_avg = np.array([np.mean(item) for item in works])\n",
    "w_std = np.array([np.std(item)/np.sqrt(p_vals['N']) for item in works])\n",
    "j_avg = np.array([np.mean(np.exp(-item)) for item in works])\n",
    "j_std = np.array([np.std(np.exp(-item))/np.sqrt(p_vals['N']) for item in works])\n",
    "\n",
    "fig, ax = plt.subplots(1,2, figsize=(20,6))\n",
    "\n",
    "ax[0].errorbar(range(100), w_avg, yerr=2*w_std, linestyle='none', marker='o')\n",
    "for item in [-1,0,1]:\n",
    "    ax[0].axhline(w_avg.mean()+item*2*w_avg.std())\n",
    "\n",
    "ax[1].errorbar(range(100), j_avg, yerr=2*j_std, linestyle='none', marker='o')\n",
    "for item in [-1,0,1]:\n",
    "    ax[1].axhline(j_avg.mean()+item*2*j_avg.std())    "
   ]
  },
  {
   "cell_type": "code",
   "execution_count": null,
   "id": "6eafee89",
   "metadata": {},
   "outputs": [],
   "source": [
    "# if you arent sure what attribites the sim output has, this is a useful trick:\n",
    "bfr.sim.output.__dict__.keys()"
   ]
  },
  {
   "cell_type": "code",
   "execution_count": null,
   "id": "3cc68685",
   "metadata": {},
   "outputs": [],
   "source": [
    "plt.hist(bfr.sim.output.final_W)\n",
    "np.mean(np.exp(-bfr.sim.output.final_W))"
   ]
  },
  {
   "cell_type": "code",
   "execution_count": null,
   "id": "fc50b7f5",
   "metadata": {},
   "outputs": [],
   "source": [
    "#here is a quick trajectory trace\n",
    "allstate = bfr.sim.output.all_state['states']\n",
    "plt.plot(allstate[:,:,0,0].transpose());\n"
   ]
  },
  {
   "cell_type": "code",
   "execution_count": null,
   "id": "57242cdf-532f-46f2-94d4-7c32c5d9680a",
   "metadata": {},
   "outputs": [],
   "source": []
  },
  {
   "cell_type": "code",
   "execution_count": null,
   "id": "72a4f869",
   "metadata": {},
   "outputs": [],
   "source": [
    "# try to create a ParamGuider class from source.kyle_tools.multisim OR make your own similar class in order to 'optimize' this bit flip. By optimize, I mean to find a protocol that has low work but also high fidelity.  Keep lambda at .5 but feel free ro change the other parameters.\n",
    "\n",
    "# It is important also to make sure that we have the right dt, so fist come up with with a method to determine how # small of a dt is necesarry to get good convergence and how many N we need to have good statistics."
   ]
  }
 ],
 "metadata": {
  "interpreter": {
   "hash": "c48eea1d6fe0303de93a25029b75a26fa311fe2cfce1f013702fed1a8d75264d"
  },
  "kernelspec": {
   "display_name": "Python 3",
   "language": "python",
   "name": "python3"
  },
  "language_info": {
   "codemirror_mode": {
    "name": "ipython",
    "version": 3
   },
   "file_extension": ".py",
   "mimetype": "text/x-python",
   "name": "python",
   "nbconvert_exporter": "python",
   "pygments_lexer": "ipython3",
   "version": "3.7.16"
  }
 },
 "nbformat": 4,
 "nbformat_minor": 5
}
